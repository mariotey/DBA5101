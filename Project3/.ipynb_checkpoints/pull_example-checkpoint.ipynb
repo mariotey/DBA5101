{
 "cells": [
  {
   "cell_type": "code",
   "execution_count": 1,
   "metadata": {
    "scrolled": true
   },
   "outputs": [
    {
     "data": {
      "text/plain": [
       "'C:\\\\Users\\\\user\\\\Desktop\\\\Ming Chuan - National University of Singapore\\\\DBA5101\\\\Group Project\\\\Project3'"
      ]
     },
     "execution_count": 1,
     "metadata": {},
     "output_type": "execute_result"
    }
   ],
   "source": [
    "import os\n",
    "os.getcwd()\n",
    "\n",
    "# Make sure server_pull.py file is in the same working directory"
   ]
  },
  {
   "cell_type": "code",
   "execution_count": 25,
   "metadata": {},
   "outputs": [
    {
     "data": {
      "text/plain": [
       "{'Arm': '21', 'NetReward': 515777, 'Pull': 23729, 'Reward': 28}"
      ]
     },
     "execution_count": 25,
     "metadata": {},
     "output_type": "execute_result"
    }
   ],
   "source": [
    "# Make sure you are connected to NUS wifi or NUS VPN in order to import and run this function\n",
    "# see the link below\n",
    "# https://webvpn.nus.edu.sg/dana-na/auth/url_52/welcome.cgi\n",
    "\n",
    "# Use server_pull_updated\n",
    "#from server_pull_updated import pull\n",
    "from server_pull import pull\n",
    "\n",
    "# pull function has the following syntax: pull(user_group, secret_key, arm)\n",
    "# please change 'test_user' and 'aaaaaaaa' to your own user_group and secret_key respectively\n",
    "\n",
    "output = pull('test_user','aaaaaaaa',21)\n",
    "# output = pull('user40','XEq6wByD',21)\n",
    "output\n",
    "\n",
    "# output comes as a dictionary with 4 key-value pairs; \n",
    "# Arm you pulled, Net Reward so far, How many times you have pulled, and reward from current pull"
   ]
  },
  {
   "cell_type": "code",
   "execution_count": 26,
   "metadata": {},
   "outputs": [
    {
     "data": {
      "text/plain": [
       "'21'"
      ]
     },
     "execution_count": 26,
     "metadata": {},
     "output_type": "execute_result"
    }
   ],
   "source": [
    "# Each value can be accessed like a normal dictionary\n",
    "output['Arm']"
   ]
  },
  {
   "cell_type": "code",
   "execution_count": 27,
   "metadata": {},
   "outputs": [
    {
     "data": {
      "text/plain": [
       "28"
      ]
     },
     "execution_count": 27,
     "metadata": {},
     "output_type": "execute_result"
    }
   ],
   "source": [
    "output['Reward']"
   ]
  },
  {
   "cell_type": "code",
   "execution_count": 28,
   "metadata": {},
   "outputs": [
    {
     "data": {
      "text/plain": [
       "{'Arm': '21', 'NetReward': 515777, 'Pull': 23729, 'Reward': 28}"
      ]
     },
     "execution_count": 28,
     "metadata": {},
     "output_type": "execute_result"
    }
   ],
   "source": [
    "output"
   ]
  }
 ],
 "metadata": {
  "kernelspec": {
   "display_name": "Python 3 (ipykernel)",
   "language": "python",
   "name": "python3"
  },
  "language_info": {
   "codemirror_mode": {
    "name": "ipython",
    "version": 3
   },
   "file_extension": ".py",
   "mimetype": "text/x-python",
   "name": "python",
   "nbconvert_exporter": "python",
   "pygments_lexer": "ipython3",
   "version": "3.11.3"
  }
 },
 "nbformat": 4,
 "nbformat_minor": 4
}
