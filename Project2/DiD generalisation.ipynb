{
 "cells": [
  {
   "cell_type": "markdown",
   "id": "ced4a37b-2b96-42b2-a9fb-21200d04ba8f",
   "metadata": {},
   "source": [
    "# Diagnose curse of dimensionality"
   ]
  },
  {
   "cell_type": "code",
   "execution_count": 1,
   "id": "30aaf79c-ccbf-4e93-b257-75d21741816a",
   "metadata": {},
   "outputs": [],
   "source": [
    "import numpy as np\n",
    "import pandas as pd\n",
    "import seaborn as sns\n",
    "import matplotlib.pyplot as plt\n",
    "from sklearn.decomposition import PCA\n",
    "from scipy.stats import pearsonr\n",
    "import statsmodels.api as sm\n",
    "import linearmodels.iv.model as lm\n",
    "from scipy import stats\n",
    "from datetime import datetime\n"
   ]
  },
  {
   "cell_type": "code",
   "execution_count": 2,
   "id": "f4f0e2e6-b83e-4aae-aae9-bf63e3b5a825",
   "metadata": {},
   "outputs": [
    {
     "data": {
      "text/plain": [
       "(81560, 14)"
      ]
     },
     "execution_count": 2,
     "metadata": {},
     "output_type": "execute_result"
    }
   ],
   "source": [
    "df = pd.read_csv('DiD_data.csv')\n",
    "df.shape"
   ]
  },
  {
   "cell_type": "code",
   "execution_count": 3,
   "id": "c73fb0cf-0864-44eb-b061-0d0f1da8c516",
   "metadata": {},
   "outputs": [
    {
     "data": {
      "text/html": [
       "<div>\n",
       "<style scoped>\n",
       "    .dataframe tbody tr th:only-of-type {\n",
       "        vertical-align: middle;\n",
       "    }\n",
       "\n",
       "    .dataframe tbody tr th {\n",
       "        vertical-align: top;\n",
       "    }\n",
       "\n",
       "    .dataframe thead th {\n",
       "        text-align: right;\n",
       "    }\n",
       "</style>\n",
       "<table border=\"1\" class=\"dataframe\">\n",
       "  <thead>\n",
       "    <tr style=\"text-align: right;\">\n",
       "      <th></th>\n",
       "      <th>rssd9001</th>\n",
       "      <th>rssd9999</th>\n",
       "      <th>bhc_avgtradingratio</th>\n",
       "      <th>treat_3_b_avg</th>\n",
       "      <th>after_DFA_1</th>\n",
       "      <th>dep_roa1</th>\n",
       "      <th>dep_leverage</th>\n",
       "      <th>dep_lnassets</th>\n",
       "      <th>dep_creditrisk_total3</th>\n",
       "      <th>dep_cir</th>\n",
       "      <th>dep_depositratio</th>\n",
       "      <th>dep_loans_REratio</th>\n",
       "      <th>dep_liquidity</th>\n",
       "      <th>dep_cpp_bankquarter</th>\n",
       "    </tr>\n",
       "  </thead>\n",
       "  <tbody>\n",
       "    <tr>\n",
       "      <th>0</th>\n",
       "      <td>1020180</td>\n",
       "      <td>20040930</td>\n",
       "      <td>0.0</td>\n",
       "      <td>0</td>\n",
       "      <td>0</td>\n",
       "      <td>0.002772</td>\n",
       "      <td>0.081957</td>\n",
       "      <td>15.601202</td>\n",
       "      <td>0.013304</td>\n",
       "      <td>0.463811</td>\n",
       "      <td>0.561805</td>\n",
       "      <td>0.593738</td>\n",
       "      <td>0.024337</td>\n",
       "      <td>0</td>\n",
       "    </tr>\n",
       "    <tr>\n",
       "      <th>1</th>\n",
       "      <td>1020180</td>\n",
       "      <td>20041231</td>\n",
       "      <td>0.0</td>\n",
       "      <td>0</td>\n",
       "      <td>0</td>\n",
       "      <td>0.003045</td>\n",
       "      <td>0.082480</td>\n",
       "      <td>15.630583</td>\n",
       "      <td>0.009732</td>\n",
       "      <td>0.456392</td>\n",
       "      <td>0.557617</td>\n",
       "      <td>0.601763</td>\n",
       "      <td>0.025446</td>\n",
       "      <td>0</td>\n",
       "    </tr>\n",
       "    <tr>\n",
       "      <th>2</th>\n",
       "      <td>1020180</td>\n",
       "      <td>20050331</td>\n",
       "      <td>0.0</td>\n",
       "      <td>0</td>\n",
       "      <td>0</td>\n",
       "      <td>0.002616</td>\n",
       "      <td>0.082074</td>\n",
       "      <td>15.644925</td>\n",
       "      <td>0.011830</td>\n",
       "      <td>0.444011</td>\n",
       "      <td>0.556980</td>\n",
       "      <td>0.600700</td>\n",
       "      <td>0.025153</td>\n",
       "      <td>0</td>\n",
       "    </tr>\n",
       "    <tr>\n",
       "      <th>3</th>\n",
       "      <td>1020180</td>\n",
       "      <td>20050630</td>\n",
       "      <td>0.0</td>\n",
       "      <td>0</td>\n",
       "      <td>0</td>\n",
       "      <td>0.002647</td>\n",
       "      <td>0.081712</td>\n",
       "      <td>15.679702</td>\n",
       "      <td>0.013654</td>\n",
       "      <td>0.433771</td>\n",
       "      <td>0.571642</td>\n",
       "      <td>0.601042</td>\n",
       "      <td>0.023670</td>\n",
       "      <td>0</td>\n",
       "    </tr>\n",
       "    <tr>\n",
       "      <th>4</th>\n",
       "      <td>1020180</td>\n",
       "      <td>20050930</td>\n",
       "      <td>0.0</td>\n",
       "      <td>0</td>\n",
       "      <td>0</td>\n",
       "      <td>0.002867</td>\n",
       "      <td>0.082944</td>\n",
       "      <td>15.661868</td>\n",
       "      <td>0.012456</td>\n",
       "      <td>0.400985</td>\n",
       "      <td>0.577408</td>\n",
       "      <td>0.581438</td>\n",
       "      <td>0.029793</td>\n",
       "      <td>0</td>\n",
       "    </tr>\n",
       "  </tbody>\n",
       "</table>\n",
       "</div>"
      ],
      "text/plain": [
       "   rssd9001  rssd9999  bhc_avgtradingratio  treat_3_b_avg  after_DFA_1  \\\n",
       "0   1020180  20040930                  0.0              0            0   \n",
       "1   1020180  20041231                  0.0              0            0   \n",
       "2   1020180  20050331                  0.0              0            0   \n",
       "3   1020180  20050630                  0.0              0            0   \n",
       "4   1020180  20050930                  0.0              0            0   \n",
       "\n",
       "   dep_roa1  dep_leverage  dep_lnassets  dep_creditrisk_total3   dep_cir  \\\n",
       "0  0.002772      0.081957     15.601202               0.013304  0.463811   \n",
       "1  0.003045      0.082480     15.630583               0.009732  0.456392   \n",
       "2  0.002616      0.082074     15.644925               0.011830  0.444011   \n",
       "3  0.002647      0.081712     15.679702               0.013654  0.433771   \n",
       "4  0.002867      0.082944     15.661868               0.012456  0.400985   \n",
       "\n",
       "   dep_depositratio  dep_loans_REratio  dep_liquidity  dep_cpp_bankquarter  \n",
       "0          0.561805           0.593738       0.024337                    0  \n",
       "1          0.557617           0.601763       0.025446                    0  \n",
       "2          0.556980           0.600700       0.025153                    0  \n",
       "3          0.571642           0.601042       0.023670                    0  \n",
       "4          0.577408           0.581438       0.029793                    0  "
      ]
     },
     "execution_count": 3,
     "metadata": {},
     "output_type": "execute_result"
    }
   ],
   "source": [
    "df.head()"
   ]
  },
  {
   "cell_type": "markdown",
   "id": "7792d5af-b089-4e8f-b17a-fbad465c4774",
   "metadata": {},
   "source": [
    "# Processing to create treatment col, process time col, and DiD col"
   ]
  },
  {
   "cell_type": "code",
   "execution_count": 4,
   "id": "4f536cd8-1759-415d-9b9f-b277a74f0d1b",
   "metadata": {},
   "outputs": [],
   "source": [
    "# process time\n",
    "df['time'] = pd.to_datetime(df['rssd9999'], format='%Y%m%d')"
   ]
  },
  {
   "cell_type": "code",
   "execution_count": 5,
   "id": "7f67c1e7-da8e-4a81-a930-9e8f76b4992a",
   "metadata": {},
   "outputs": [],
   "source": [
    "# assign treatment group, when bank has >3% at first timestep\n",
    "df['treatment'] = 0 \n",
    "mask = (df['treat_3_b_avg'] == 1) & (df['time'] == '2004-09-30')\n",
    "banks_with_treatment = df.loc[mask, 'rssd9001'].unique()\n",
    "\n",
    "df.loc[df['rssd9001'].isin(banks_with_treatment), 'treatment'] = 1\n"
   ]
  },
  {
   "cell_type": "code",
   "execution_count": 35,
   "id": "adbd9e77-22c2-4345-8588-6c44d3d6b3c1",
   "metadata": {},
   "outputs": [
    {
     "data": {
      "text/plain": [
       "(treatment\n",
       " 0    39498\n",
       " 1      528\n",
       " Name: count, dtype: int64,\n",
       " treat_3_b_avg\n",
       " 0    39399\n",
       " 1      627\n",
       " Name: count, dtype: int64)"
      ]
     },
     "execution_count": 35,
     "metadata": {},
     "output_type": "execute_result"
    }
   ],
   "source": [
    "df['treatment'].value_counts(), df['treat_3_b_avg'].value_counts()\n"
   ]
  },
  {
   "cell_type": "code",
   "execution_count": 7,
   "id": "57d5e91a-731d-43a4-84d5-9ae676400254",
   "metadata": {},
   "outputs": [],
   "source": [
    "# create DiD parameter (when post treatment + treatment group\n",
    "df['beta_para'] = df['after_DFA_1'] * df['treatment']"
   ]
  },
  {
   "cell_type": "markdown",
   "id": "92f8570b-5f32-499b-a665-e8c8814b588f",
   "metadata": {},
   "source": [
    "# NA handling"
   ]
  },
  {
   "cell_type": "code",
   "execution_count": 8,
   "id": "022a0a13-eec8-40d8-b480-bbef55e44b28",
   "metadata": {},
   "outputs": [
    {
     "data": {
      "text/plain": [
       "rssd9001                     0\n",
       "rssd9999                     0\n",
       "bhc_avgtradingratio      40118\n",
       "treat_3_b_avg                0\n",
       "after_DFA_1                  0\n",
       "dep_roa1                 24622\n",
       "dep_leverage             24543\n",
       "dep_lnassets             19789\n",
       "dep_creditrisk_total3    37128\n",
       "dep_cir                  39178\n",
       "dep_depositratio          2388\n",
       "dep_loans_REratio        37128\n",
       "dep_liquidity            26401\n",
       "dep_cpp_bankquarter          0\n",
       "time                         0\n",
       "treatment                    0\n",
       "beta_para                    0\n",
       "dtype: int64"
      ]
     },
     "execution_count": 8,
     "metadata": {},
     "output_type": "execute_result"
    }
   ],
   "source": [
    "# check NAs\n",
    "df.isna().sum()"
   ]
  },
  {
   "cell_type": "code",
   "execution_count": 9,
   "id": "de88ef4f-744c-44e1-8593-626324aa1556",
   "metadata": {},
   "outputs": [
    {
     "data": {
      "text/plain": [
       "rssd9001                 0\n",
       "rssd9999                 0\n",
       "bhc_avgtradingratio      0\n",
       "treat_3_b_avg            0\n",
       "after_DFA_1              0\n",
       "dep_roa1                 0\n",
       "dep_leverage             0\n",
       "dep_lnassets             0\n",
       "dep_creditrisk_total3    0\n",
       "dep_cir                  0\n",
       "dep_depositratio         0\n",
       "dep_loans_REratio        0\n",
       "dep_liquidity            0\n",
       "dep_cpp_bankquarter      0\n",
       "time                     0\n",
       "treatment                0\n",
       "beta_para                0\n",
       "dtype: int64"
      ]
     },
     "execution_count": 9,
     "metadata": {},
     "output_type": "execute_result"
    }
   ],
   "source": [
    "df = df.dropna()\n",
    "df.isna().sum()"
   ]
  },
  {
   "cell_type": "markdown",
   "id": "2d6dd654-0471-44ad-82db-bb8ef090a7e9",
   "metadata": {},
   "source": [
    "# Parameter definition (KIV)"
   ]
  },
  {
   "cell_type": "code",
   "execution_count": 14,
   "id": "b9b2f91e-6f1b-4e63-853e-c2cd1a8774a8",
   "metadata": {},
   "outputs": [],
   "source": [
    "# parameter extraction\n",
    "treat_3_b_avg = df['treat_3_b_avg']\n",
    "after_DFA_1 = df['after_DFA_1']\n",
    "time = df['time']\n",
    "\n",
    "target = df['bhc_avgtradingratio']\n",
    "X = df\n",
    "X = X.drop(['rssd9999','bhc_avgtradingratio', 'after_DFA_1', 'treat_3_b_avg'], axis = 1)\n"
   ]
  },
  {
   "cell_type": "markdown",
   "id": "1397f3b6-82c6-41b5-ab80-ff0e9e60f232",
   "metadata": {},
   "source": [
    "# Frequency distrtibution of treat_3_b_avg and after_DFA_1 change across time\n",
    "We observe that treat_3_avg does not remain constant, banks can change from 0 to 1 or 1 to 0"
   ]
  },
  {
   "cell_type": "code",
   "execution_count": 36,
   "id": "c361f3f5-b6d6-4e13-aa89-455fea373504",
   "metadata": {},
   "outputs": [
    {
     "data": {
      "text/plain": [
       "<matplotlib.lines.Line2D at 0x21228fc9fa0>"
      ]
     },
     "execution_count": 36,
     "metadata": {},
     "output_type": "execute_result"
    },
    {
     "data": {
      "image/png": "[encoded data removed]",
      "text/plain": [
       "<Figure size 640x480 with 1 Axes>"
      ]
     },
     "metadata": {},
     "output_type": "display_data"
    }
   ],
   "source": [
    "sns.histplot(treat_3_b_avg, x = time, hue = treat_3_b_avg, common_norm = False, stat = 'proportion', kde=True, bins = 40+4)\n",
    "plt.axvline(x=pd.to_datetime('2009-09-01'), color='red', linestyle='dashed', linewidth=2)"
   ]
  },
  {
   "cell_type": "code",
   "execution_count": 37,
   "id": "5ef4658d-c990-4ad4-97da-90d467d7a069",
   "metadata": {},
   "outputs": [
    {
     "data": {
      "text/plain": [
       "<matplotlib.lines.Line2D at 0x21228edeca0>"
      ]
     },
     "execution_count": 37,
     "metadata": {},
     "output_type": "execute_result"
    },
    {
     "data": {
      "image/png": "[encoded data removed]",
      "text/plain": [
       "<Figure size 640x480 with 1 Axes>"
      ]
     },
     "metadata": {},
     "output_type": "display_data"
    }
   ],
   "source": [
    "sns.histplot(after_DFA_1, x = time, hue = after_DFA_1, common_norm = True, stat = 'proportion', kde=True, bins = 40+4)\n",
    "plt.axvline(x=pd.to_datetime('2009-09-01'), color='red', linestyle='dashed', linewidth=2)"
   ]
  },
  {
   "cell_type": "code",
   "execution_count": null,
   "id": "31638b66-71db-4e94-8f1f-b754448d8170",
   "metadata": {},
   "outputs": [],
   "source": []
  },
  {
   "cell_type": "code",
   "execution_count": 17,
   "id": "881fe1a6-23f9-4030-96f9-0df48d297f08",
   "metadata": {},
   "outputs": [
    {
     "data": {
      "text/plain": [
       "<Axes: xlabel='time', ylabel='Proportion'>"
      ]
     },
     "execution_count": 17,
     "metadata": {},
     "output_type": "execute_result"
    },
    {
     "data": {
      "image/png": "[encoded data removed]",
      "text/plain": [
       "<Figure size 640x480 with 1 Axes>"
      ]
     },
     "metadata": {},
     "output_type": "display_data"
    }
   ],
   "source": [
    "sns.histplot(target, x = time, hue = treat_3_b_avg, common_norm = False, stat = 'proportion')\n",
    "# observe a slight slope downwards"
   ]
  },
  {
   "cell_type": "code",
   "execution_count": 18,
   "id": "a863047b-5890-4987-8946-644fbca29296",
   "metadata": {},
   "outputs": [
    {
     "data": {
      "text/html": [
       "<div>\n",
       "<style scoped>\n",
       "    .dataframe tbody tr th:only-of-type {\n",
       "        vertical-align: middle;\n",
       "    }\n",
       "\n",
       "    .dataframe tbody tr th {\n",
       "        vertical-align: top;\n",
       "    }\n",
       "\n",
       "    .dataframe thead th {\n",
       "        text-align: right;\n",
       "    }\n",
       "</style>\n",
       "<table border=\"1\" class=\"dataframe\">\n",
       "  <thead>\n",
       "    <tr style=\"text-align: right;\">\n",
       "      <th></th>\n",
       "      <th>rssd9001</th>\n",
       "      <th>dep_roa1</th>\n",
       "      <th>dep_leverage</th>\n",
       "      <th>dep_lnassets</th>\n",
       "      <th>dep_creditrisk_total3</th>\n",
       "      <th>dep_cir</th>\n",
       "      <th>dep_depositratio</th>\n",
       "      <th>dep_loans_REratio</th>\n",
       "      <th>dep_liquidity</th>\n",
       "      <th>dep_cpp_bankquarter</th>\n",
       "      <th>time</th>\n",
       "      <th>treatment</th>\n",
       "      <th>beta_para</th>\n",
       "    </tr>\n",
       "  </thead>\n",
       "  <tbody>\n",
       "    <tr>\n",
       "      <th>0</th>\n",
       "      <td>1020180</td>\n",
       "      <td>0.002772</td>\n",
       "      <td>0.081957</td>\n",
       "      <td>15.601202</td>\n",
       "      <td>0.013304</td>\n",
       "      <td>0.463811</td>\n",
       "      <td>0.561805</td>\n",
       "      <td>0.593738</td>\n",
       "      <td>0.024337</td>\n",
       "      <td>0</td>\n",
       "      <td>2004-09-30</td>\n",
       "      <td>0</td>\n",
       "      <td>0</td>\n",
       "    </tr>\n",
       "    <tr>\n",
       "      <th>1</th>\n",
       "      <td>1020180</td>\n",
       "      <td>0.003045</td>\n",
       "      <td>0.082480</td>\n",
       "      <td>15.630583</td>\n",
       "      <td>0.009732</td>\n",
       "      <td>0.456392</td>\n",
       "      <td>0.557617</td>\n",
       "      <td>0.601763</td>\n",
       "      <td>0.025446</td>\n",
       "      <td>0</td>\n",
       "      <td>2004-12-31</td>\n",
       "      <td>0</td>\n",
       "      <td>0</td>\n",
       "    </tr>\n",
       "    <tr>\n",
       "      <th>2</th>\n",
       "      <td>1020180</td>\n",
       "      <td>0.002616</td>\n",
       "      <td>0.082074</td>\n",
       "      <td>15.644925</td>\n",
       "      <td>0.011830</td>\n",
       "      <td>0.444011</td>\n",
       "      <td>0.556980</td>\n",
       "      <td>0.600700</td>\n",
       "      <td>0.025153</td>\n",
       "      <td>0</td>\n",
       "      <td>2005-03-31</td>\n",
       "      <td>0</td>\n",
       "      <td>0</td>\n",
       "    </tr>\n",
       "    <tr>\n",
       "      <th>3</th>\n",
       "      <td>1020180</td>\n",
       "      <td>0.002647</td>\n",
       "      <td>0.081712</td>\n",
       "      <td>15.679702</td>\n",
       "      <td>0.013654</td>\n",
       "      <td>0.433771</td>\n",
       "      <td>0.571642</td>\n",
       "      <td>0.601042</td>\n",
       "      <td>0.023670</td>\n",
       "      <td>0</td>\n",
       "      <td>2005-06-30</td>\n",
       "      <td>0</td>\n",
       "      <td>0</td>\n",
       "    </tr>\n",
       "    <tr>\n",
       "      <th>4</th>\n",
       "      <td>1020180</td>\n",
       "      <td>0.002867</td>\n",
       "      <td>0.082944</td>\n",
       "      <td>15.661868</td>\n",
       "      <td>0.012456</td>\n",
       "      <td>0.400985</td>\n",
       "      <td>0.577408</td>\n",
       "      <td>0.581438</td>\n",
       "      <td>0.029793</td>\n",
       "      <td>0</td>\n",
       "      <td>2005-09-30</td>\n",
       "      <td>0</td>\n",
       "      <td>0</td>\n",
       "    </tr>\n",
       "  </tbody>\n",
       "</table>\n",
       "</div>"
      ],
      "text/plain": [
       "   rssd9001  dep_roa1  dep_leverage  dep_lnassets  dep_creditrisk_total3  \\\n",
       "0   1020180  0.002772      0.081957     15.601202               0.013304   \n",
       "1   1020180  0.003045      0.082480     15.630583               0.009732   \n",
       "2   1020180  0.002616      0.082074     15.644925               0.011830   \n",
       "3   1020180  0.002647      0.081712     15.679702               0.013654   \n",
       "4   1020180  0.002867      0.082944     15.661868               0.012456   \n",
       "\n",
       "    dep_cir  dep_depositratio  dep_loans_REratio  dep_liquidity  \\\n",
       "0  0.463811          0.561805           0.593738       0.024337   \n",
       "1  0.456392          0.557617           0.601763       0.025446   \n",
       "2  0.444011          0.556980           0.600700       0.025153   \n",
       "3  0.433771          0.571642           0.601042       0.023670   \n",
       "4  0.400985          0.577408           0.581438       0.029793   \n",
       "\n",
       "   dep_cpp_bankquarter       time  treatment  beta_para  \n",
       "0                    0 2004-09-30          0          0  \n",
       "1                    0 2004-12-31          0          0  \n",
       "2                    0 2005-03-31          0          0  \n",
       "3                    0 2005-06-30          0          0  \n",
       "4                    0 2005-09-30          0          0  "
      ]
     },
     "execution_count": 18,
     "metadata": {},
     "output_type": "execute_result"
    }
   ],
   "source": [
    "X.head()"
   ]
  },
  {
   "cell_type": "code",
   "execution_count": 19,
   "id": "7cdd3ad4-bb6c-46f8-98a9-6e4a7dfb79e4",
   "metadata": {},
   "outputs": [],
   "source": [
    "#slice function to extract 2 vars for given condition\n",
    "def slice_plot(x1, x2, given, value):\n",
    "    #input 2 vars x1,x2 in string format\n",
    "    # for a condiction where variable given = value\n",
    "    # slice = df[[x1,x2]] = df[given] == value\n",
    "\n",
    "    extracted_data = df[df[given] == value][[x1, x2]]\n",
    "    # slice = df[[x1,x2]]\n",
    "    plt.figure(figsize=(8, 6))\n",
    "    plt.plot(extracted_data[x1], extracted_data[x2])\n",
    "    plt.xlabel(x1)\n",
    "    plt.ylabel(x2)\n",
    "    plt.title(f'Columns for condition: {given} = {value}')\n",
    "    # plt.legend()\n",
    "    plt.show()\n",
    "    return extracted_data.head()"
   ]
  },
  {
   "cell_type": "code",
   "execution_count": 20,
   "id": "544ba66c-45c4-42bf-a0cc-cd2b88f4a006",
   "metadata": {},
   "outputs": [],
   "source": [
    "df_first_quarter = df[df['time'] == '2004-09-30']"
   ]
  },
  {
   "cell_type": "code",
   "execution_count": 21,
   "id": "3d8246e9-54d0-4951-94d7-175401890cb7",
   "metadata": {},
   "outputs": [
    {
     "data": {
      "text/plain": [
       "((18, 17), (783, 17))"
      ]
     },
     "execution_count": 21,
     "metadata": {},
     "output_type": "execute_result"
    }
   ],
   "source": [
    "treatment_df = df_first_quarter[ df_first_quarter['treat_3_b_avg'] == 1] \n",
    "control_df = df_first_quarter[ df_first_quarter['treat_3_b_avg'] == 0] \n",
    "\n",
    "treatment_df.shape, control_df.shape"
   ]
  },
  {
   "cell_type": "code",
   "execution_count": 22,
   "id": "5394935c-74a0-43fc-b5fb-a7fd252297cb",
   "metadata": {},
   "outputs": [
    {
     "data": {
      "text/plain": [
       "(18, 783)"
      ]
     },
     "execution_count": 22,
     "metadata": {},
     "output_type": "execute_result"
    }
   ],
   "source": [
    "len(treatment_df.rssd9001.value_counts()), len(control_df.rssd9001.value_counts())\n",
    "# define treatment as 29 banks and control as 2330 banks"
   ]
  },
  {
   "cell_type": "code",
   "execution_count": 23,
   "id": "3f25cf73-b685-4e50-9f5f-f86e9887f187",
   "metadata": {},
   "outputs": [],
   "source": [
    "df_last_quarter = df[df['time'] == '2009-03-31']"
   ]
  },
  {
   "cell_type": "code",
   "execution_count": 24,
   "id": "a2df6d08-c2f4-4768-a61b-0717f447a31b",
   "metadata": {},
   "outputs": [
    {
     "data": {
      "text/plain": [
       "((15, 17), (947, 17))"
      ]
     },
     "execution_count": 24,
     "metadata": {},
     "output_type": "execute_result"
    }
   ],
   "source": [
    "treatment_df = df_last_quarter[ df_last_quarter['treat_3_b_avg'] == 1] \n",
    "control_df = df_last_quarter[ df_last_quarter['treat_3_b_avg'] == 0] \n",
    "\n",
    "treatment_df.shape, control_df.shape"
   ]
  },
  {
   "cell_type": "code",
   "execution_count": 25,
   "id": "33869c36-cc43-4417-8444-52b884a98281",
   "metadata": {},
   "outputs": [
    {
     "data": {
      "text/plain": [
       "(15, 947)"
      ]
     },
     "execution_count": 25,
     "metadata": {},
     "output_type": "execute_result"
    }
   ],
   "source": [
    "len(treatment_df.rssd9001.value_counts()), len(control_df.rssd9001.value_counts())\n",
    "# define treatment as 27 banks and control as 2074 banks"
   ]
  },
  {
   "cell_type": "markdown",
   "id": "d56e40fc-a4b4-4c55-8fb6-c15d52faa84f",
   "metadata": {},
   "source": [
    "# OLS  df[['treatment', 'dep_roa1']]"
   ]
  },
  {
   "cell_type": "code",
   "execution_count": 26,
   "id": "7cf7ec65-ad43-43b5-87aa-bf293773dc16",
   "metadata": {},
   "outputs": [
    {
     "name": "stdout",
     "output_type": "stream",
     "text": [
      "                             OLS Regression Results                            \n",
      "===============================================================================\n",
      "Dep. Variable:     bhc_avgtradingratio   R-squared:                       0.309\n",
      "Model:                             OLS   Adj. R-squared:                  0.309\n",
      "Method:                  Least Squares   F-statistic:                     8965.\n",
      "Date:                 Tue, 17 Oct 2023   Prob (F-statistic):               0.00\n",
      "Time:                         18:36:07   Log-Likelihood:             1.0802e+05\n",
      "No. Observations:                40026   AIC:                        -2.160e+05\n",
      "Df Residuals:                    40023   BIC:                        -2.160e+05\n",
      "Df Model:                            2                                         \n",
      "Covariance Type:             nonrobust                                         \n",
      "==============================================================================\n",
      "                 coef    std err          t      P>|t|      [0.025      0.975]\n",
      "------------------------------------------------------------------------------\n",
      "const          0.0013   8.75e-05     15.300      0.000       0.001       0.002\n",
      "treatment      0.0955      0.001    133.878      0.000       0.094       0.097\n",
      "dep_roa1      -0.0522      0.017     -3.074      0.002      -0.086      -0.019\n",
      "==============================================================================\n",
      "Omnibus:                    73550.601   Durbin-Watson:                   0.177\n",
      "Prob(Omnibus):                  0.000   Jarque-Bera (JB):        130410081.600\n",
      "Skew:                          13.741   Prob(JB):                         0.00\n",
      "Kurtosis:                     281.280   Cond. No.                         209.\n",
      "==============================================================================\n",
      "\n",
      "Notes:\n",
      "[1] Standard Errors assume that the covariance matrix of the errors is correctly specified.\n"
     ]
    }
   ],
   "source": [
    "# create model such that \n",
    "X = df[['treatment', 'dep_roa1']]\n",
    "X = sm.add_constant(X)  # Adds a constant term to the model\n",
    "Y = df['bhc_avgtradingratio']\n",
    "\n",
    "# Fit the DiD model\n",
    "model = sm.OLS(Y, X)\n",
    "results = model.fit()\n",
    "print(results.summary())"
   ]
  },
  {
   "cell_type": "markdown",
   "id": "2b7fcec8-7053-4b7b-b1c6-f998b3afe2a1",
   "metadata": {
    "jp-MarkdownHeadingCollapsed": true
   },
   "source": [
    "# OLS df[['beta_para','after_DFA_1','treatment', 'dep_roa1']]"
   ]
  },
  {
   "cell_type": "code",
   "execution_count": 27,
   "id": "d7dcb66f-a923-42ba-a205-90f813b01039",
   "metadata": {},
   "outputs": [
    {
     "name": "stdout",
     "output_type": "stream",
     "text": [
      "                             OLS Regression Results                            \n",
      "===============================================================================\n",
      "Dep. Variable:     bhc_avgtradingratio   R-squared:                       0.316\n",
      "Model:                             OLS   Adj. R-squared:                  0.316\n",
      "Method:                  Least Squares   F-statistic:                     4627.\n",
      "Date:                 Tue, 17 Oct 2023   Prob (F-statistic):               0.00\n",
      "Time:                         18:36:07   Log-Likelihood:             1.0822e+05\n",
      "No. Observations:                40026   AIC:                        -2.164e+05\n",
      "Df Residuals:                    40021   BIC:                        -2.164e+05\n",
      "Df Model:                            4                                         \n",
      "Covariance Type:             nonrobust                                         \n",
      "===============================================================================\n",
      "                  coef    std err          t      P>|t|      [0.025      0.975]\n",
      "-------------------------------------------------------------------------------\n",
      "const           0.0010      0.000      9.208      0.000       0.001       0.001\n",
      "beta_para      -0.0291      0.001    -19.794      0.000      -0.032      -0.026\n",
      "after_DFA_1     0.0008      0.000      5.023      0.000       0.001       0.001\n",
      "treatment       0.1062      0.001    118.996      0.000       0.104       0.108\n",
      "dep_roa1       -0.0496      0.017     -2.934      0.003      -0.083      -0.016\n",
      "==============================================================================\n",
      "Omnibus:                    73600.280   Durbin-Watson:                   0.179\n",
      "Prob(Omnibus):                  0.000   Jarque-Bera (JB):        131245747.025\n",
      "Skew:                          13.759   Prob(JB):                         0.00\n",
      "Kurtosis:                     282.176   Cond. No.                         228.\n",
      "==============================================================================\n",
      "\n",
      "Notes:\n",
      "[1] Standard Errors assume that the covariance matrix of the errors is correctly specified.\n"
     ]
    }
   ],
   "source": [
    "# create model such that \n",
    "X = df[['beta_para','after_DFA_1','treatment', 'dep_roa1']]\n",
    "X = sm.add_constant(X)  # Adds a constant term to the model\n",
    "Y = df['bhc_avgtradingratio']\n",
    "\n",
    "# Fit the DiD model\n",
    "model = sm.OLS(Y, X)\n",
    "results = model.fit()\n",
    "print(results.summary())"
   ]
  },
  {
   "cell_type": "markdown",
   "id": "837bb10c-7435-45ba-87cd-bdaceb64fde1",
   "metadata": {},
   "source": [
    "# OLS df[['beta_para','after_DFA_1','treatment', ALL]] - 9 CVs"
   ]
  },
  {
   "cell_type": "code",
   "execution_count": 28,
   "id": "af3189ed-65ee-482e-ba9c-6415abd302a9",
   "metadata": {},
   "outputs": [
    {
     "data": {
      "text/plain": [
       "Index(['rssd9001', 'rssd9999', 'bhc_avgtradingratio', 'treat_3_b_avg',\n",
       "       'after_DFA_1', 'dep_roa1', 'dep_leverage', 'dep_lnassets',\n",
       "       'dep_creditrisk_total3', 'dep_cir', 'dep_depositratio',\n",
       "       'dep_loans_REratio', 'dep_liquidity', 'dep_cpp_bankquarter', 'time',\n",
       "       'treatment', 'beta_para'],\n",
       "      dtype='object')"
      ]
     },
     "execution_count": 28,
     "metadata": {},
     "output_type": "execute_result"
    }
   ],
   "source": [
    "df.keys()"
   ]
  },
  {
   "cell_type": "code",
   "execution_count": 29,
   "id": "f3cbe112-3c71-4ea3-9bd1-61f09b8a0c30",
   "metadata": {},
   "outputs": [
    {
     "name": "stdout",
     "output_type": "stream",
     "text": [
      "                             OLS Regression Results                            \n",
      "===============================================================================\n",
      "Dep. Variable:     bhc_avgtradingratio   R-squared:                       0.396\n",
      "Model:                             OLS   Adj. R-squared:                  0.396\n",
      "Method:                  Least Squares   F-statistic:                     2185.\n",
      "Date:                 Tue, 17 Oct 2023   Prob (F-statistic):               0.00\n",
      "Time:                         18:36:07   Log-Likelihood:             1.1070e+05\n",
      "No. Observations:                40026   AIC:                        -2.214e+05\n",
      "Df Residuals:                    40013   BIC:                        -2.213e+05\n",
      "Df Model:                           12                                         \n",
      "Covariance Type:             nonrobust                                         \n",
      "=========================================================================================\n",
      "                            coef    std err          t      P>|t|      [0.025      0.975]\n",
      "-----------------------------------------------------------------------------------------\n",
      "const                    -0.0109      0.001     -8.112      0.000      -0.014      -0.008\n",
      "beta_para                -0.0297      0.001    -21.454      0.000      -0.032      -0.027\n",
      "after_DFA_1               0.0002      0.000      1.171      0.242      -0.000       0.001\n",
      "treatment                 0.0850      0.001     95.570      0.000       0.083       0.087\n",
      "dep_roa1                 -0.0060      0.019     -0.310      0.757      -0.044       0.032\n",
      "dep_leverage             -0.0332      0.002    -14.372      0.000      -0.038      -0.029\n",
      "dep_lnassets              0.0027   6.66e-05     39.974      0.000       0.003       0.003\n",
      "dep_creditrisk_total3     0.0129      0.002      5.175      0.000       0.008       0.018\n",
      "dep_cir                   0.0003      0.000      1.093      0.275      -0.000       0.001\n",
      "dep_depositratio         -0.0235      0.001    -32.316      0.000      -0.025      -0.022\n",
      "dep_loans_REratio        -0.0081      0.001    -15.241      0.000      -0.009      -0.007\n",
      "dep_liquidity            -0.0050      0.002     -2.788      0.005      -0.009      -0.001\n",
      "dep_cpp_bankquarter      -0.0008      0.000     -2.446      0.014      -0.001      -0.000\n",
      "==============================================================================\n",
      "Omnibus:                    69647.681   Durbin-Watson:                   0.192\n",
      "Prob(Omnibus):                  0.000   Jarque-Bera (JB):         96903011.701\n",
      "Skew:                          12.252   Prob(JB):                         0.00\n",
      "Kurtosis:                     242.799   Cond. No.                     3.56e+03\n",
      "==============================================================================\n",
      "\n",
      "Notes:\n",
      "[1] Standard Errors assume that the covariance matrix of the errors is correctly specified.\n",
      "[2] The condition number is large, 3.56e+03. This might indicate that there are\n",
      "strong multicollinearity or other numerical problems.\n"
     ]
    }
   ],
   "source": [
    "# create model such that \n",
    "X = df[['beta_para','after_DFA_1','treatment', 'dep_roa1', 'dep_leverage', 'dep_lnassets',\n",
    "       'dep_creditrisk_total3', 'dep_cir', 'dep_depositratio',\n",
    "       'dep_loans_REratio', 'dep_liquidity', 'dep_cpp_bankquarter']]\n",
    "X = sm.add_constant(X)  # Adds a constant term to the model\n",
    "Y = df['bhc_avgtradingratio']\n",
    "\n",
    "# Fit the DiD model\n",
    "model = sm.OLS(Y, X)\n",
    "results = model.fit()\n",
    "print(results.summary())"
   ]
  },
  {
   "cell_type": "markdown",
   "id": "9569561a-60d8-4b88-897a-8f4e11de2d4b",
   "metadata": {},
   "source": [
    "# Inbalanced dataset analysis for ratio of treatment to control"
   ]
  },
  {
   "cell_type": "code",
   "execution_count": 30,
   "id": "e4ef8dd7-e1d5-4d94-a5a6-d491c2f8fb36",
   "metadata": {},
   "outputs": [
    {
     "data": {
      "text/plain": [
       "(treat_3_b_avg\n",
       " 0    39399\n",
       " 1      627\n",
       " Name: count, dtype: int64,\n",
       " treat_3_b_avg\n",
       " 0    0.984335\n",
       " 1    0.015665\n",
       " Name: proportion, dtype: float64)"
      ]
     },
     "execution_count": 30,
     "metadata": {},
     "output_type": "execute_result"
    }
   ],
   "source": [
    "# freqeuncy distribution for banks above 3%\n",
    "df['treat_3_b_avg'].value_counts(), df['treat_3_b_avg'].value_counts(normalize= True)"
   ]
  },
  {
   "cell_type": "code",
   "execution_count": 31,
   "id": "bc34185c-0f8c-4765-b00e-1eea754d1c60",
   "metadata": {},
   "outputs": [
    {
     "data": {
      "text/plain": [
       "(treatment\n",
       " 0    39498\n",
       " 1      528\n",
       " Name: count, dtype: int64,\n",
       " treatment\n",
       " 0    0.986809\n",
       " 1    0.013191\n",
       " Name: proportion, dtype: float64)"
      ]
     },
     "execution_count": 31,
     "metadata": {},
     "output_type": "execute_result"
    }
   ],
   "source": [
    "# freqeuncy distribution for treatment group\n",
    "df['treatment'].value_counts(), df['treatment'].value_counts(normalize= True)"
   ]
  },
  {
   "cell_type": "markdown",
   "id": "1c03cc0d-8cf6-4c7b-8314-b566a9c5e4c0",
   "metadata": {},
   "source": [
    "# Propensity score matching KNN"
   ]
  },
  {
   "cell_type": "code",
   "execution_count": 32,
   "id": "2ebed40f-9286-4d45-ad84-ec4671baf009",
   "metadata": {},
   "outputs": [],
   "source": [
    "# ratio is approximately 98% to 2%, or 1 is to 20\n",
    "# hence we attempt to find the 20 nearest neighbouts to assign as propensity matching\n",
    "N = 20\n",
    "\n",
    "from sklearn.linear_model import LogisticRegression\n",
    "\n",
    "# Assuming X contains your independent variables and treatment contains the treatment indicator\n",
    "# X = ...\n",
    "# treatment = ...\n",
    "\n",
    "# Fit a logistic regression model to estimate propensity scores\n",
    "X = df[['dep_roa1', 'dep_leverage', 'dep_lnassets',\n",
    "       'dep_creditrisk_total3', 'dep_cir', 'dep_depositratio',\n",
    "       'dep_loans_REratio', 'dep_liquidity', 'dep_cpp_bankquarter']] # 9 CVs\n",
    "treatment = df['treatment']\n",
    "propensity_model = LogisticRegression(random_state=0, max_iter = 1000)\n",
    "propensity_model.fit(X, treatment)\n",
    "\n",
    "# Predict propensity scores\n",
    "propensity_scores = propensity_model.predict_proba(X)[:, 1]"
   ]
  },
  {
   "cell_type": "code",
   "execution_count": 33,
   "id": "9a90f34b-b59d-4eee-b97a-a4e68b2990d7",
   "metadata": {},
   "outputs": [
    {
     "ename": "KeyError",
     "evalue": "\"None of [Index([    0,     1,     2,     3,     4,     5,     6,     7,     8,     9,\\n       ...\\n       40016, 40017, 40018, 40019, 40020, 40021, 40022, 40023, 40024, 40025],\\n      dtype='int64', length=39498)] are in the [columns]\"",
     "output_type": "error",
     "traceback": [
      "\u001b[1;31m---------------------------------------------------------------------------\u001b[0m",
      "\u001b[1;31mKeyError\u001b[0m                                  Traceback (most recent call last)",
      "Cell \u001b[1;32mIn[33], line 9\u001b[0m\n\u001b[0;32m      6\u001b[0m control_indices \u001b[38;5;241m=\u001b[39m np\u001b[38;5;241m.\u001b[39mwhere(treatment \u001b[38;5;241m==\u001b[39m \u001b[38;5;241m0\u001b[39m)[\u001b[38;5;241m0\u001b[39m]\n\u001b[0;32m      8\u001b[0m nn \u001b[38;5;241m=\u001b[39m NearestNeighbors(n_neighbors\u001b[38;5;241m=\u001b[39m N, algorithm\u001b[38;5;241m=\u001b[39m\u001b[38;5;124m'\u001b[39m\u001b[38;5;124mball_tree\u001b[39m\u001b[38;5;124m'\u001b[39m)\n\u001b[1;32m----> 9\u001b[0m nn\u001b[38;5;241m.\u001b[39mfit(\u001b[43mX\u001b[49m\u001b[43m[\u001b[49m\u001b[43mcontrol_indices\u001b[49m\u001b[43m]\u001b[49m)\n\u001b[0;32m     10\u001b[0m distances, indices \u001b[38;5;241m=\u001b[39m nn\u001b[38;5;241m.\u001b[39mkneighbors(X[treated_indices])\n\u001b[0;32m     12\u001b[0m \u001b[38;5;66;03m# Match control samples to treated samples based on propensity score\u001b[39;00m\n",
      "File \u001b[1;32m~\\AppData\\Local\\Packages\\PythonSoftwareFoundation.Python.3.9_qbz5n2kfra8p0\\LocalCache\\local-packages\\Python39\\site-packages\\pandas\\core\\frame.py:3767\u001b[0m, in \u001b[0;36mDataFrame.__getitem__\u001b[1;34m(self, key)\u001b[0m\n\u001b[0;32m   3765\u001b[0m     \u001b[38;5;28;01mif\u001b[39;00m is_iterator(key):\n\u001b[0;32m   3766\u001b[0m         key \u001b[38;5;241m=\u001b[39m \u001b[38;5;28mlist\u001b[39m(key)\n\u001b[1;32m-> 3767\u001b[0m     indexer \u001b[38;5;241m=\u001b[39m \u001b[38;5;28;43mself\u001b[39;49m\u001b[38;5;241;43m.\u001b[39;49m\u001b[43mcolumns\u001b[49m\u001b[38;5;241;43m.\u001b[39;49m\u001b[43m_get_indexer_strict\u001b[49m\u001b[43m(\u001b[49m\u001b[43mkey\u001b[49m\u001b[43m,\u001b[49m\u001b[43m \u001b[49m\u001b[38;5;124;43m\"\u001b[39;49m\u001b[38;5;124;43mcolumns\u001b[39;49m\u001b[38;5;124;43m\"\u001b[39;49m\u001b[43m)\u001b[49m[\u001b[38;5;241m1\u001b[39m]\n\u001b[0;32m   3769\u001b[0m \u001b[38;5;66;03m# take() does not accept boolean indexers\u001b[39;00m\n\u001b[0;32m   3770\u001b[0m \u001b[38;5;28;01mif\u001b[39;00m \u001b[38;5;28mgetattr\u001b[39m(indexer, \u001b[38;5;124m\"\u001b[39m\u001b[38;5;124mdtype\u001b[39m\u001b[38;5;124m\"\u001b[39m, \u001b[38;5;28;01mNone\u001b[39;00m) \u001b[38;5;241m==\u001b[39m \u001b[38;5;28mbool\u001b[39m:\n",
      "File \u001b[1;32m~\\AppData\\Local\\Packages\\PythonSoftwareFoundation.Python.3.9_qbz5n2kfra8p0\\LocalCache\\local-packages\\Python39\\site-packages\\pandas\\core\\indexes\\base.py:5876\u001b[0m, in \u001b[0;36mIndex._get_indexer_strict\u001b[1;34m(self, key, axis_name)\u001b[0m\n\u001b[0;32m   5873\u001b[0m \u001b[38;5;28;01melse\u001b[39;00m:\n\u001b[0;32m   5874\u001b[0m     keyarr, indexer, new_indexer \u001b[38;5;241m=\u001b[39m \u001b[38;5;28mself\u001b[39m\u001b[38;5;241m.\u001b[39m_reindex_non_unique(keyarr)\n\u001b[1;32m-> 5876\u001b[0m \u001b[38;5;28;43mself\u001b[39;49m\u001b[38;5;241;43m.\u001b[39;49m\u001b[43m_raise_if_missing\u001b[49m\u001b[43m(\u001b[49m\u001b[43mkeyarr\u001b[49m\u001b[43m,\u001b[49m\u001b[43m \u001b[49m\u001b[43mindexer\u001b[49m\u001b[43m,\u001b[49m\u001b[43m \u001b[49m\u001b[43maxis_name\u001b[49m\u001b[43m)\u001b[49m\n\u001b[0;32m   5878\u001b[0m keyarr \u001b[38;5;241m=\u001b[39m \u001b[38;5;28mself\u001b[39m\u001b[38;5;241m.\u001b[39mtake(indexer)\n\u001b[0;32m   5879\u001b[0m \u001b[38;5;28;01mif\u001b[39;00m \u001b[38;5;28misinstance\u001b[39m(key, Index):\n\u001b[0;32m   5880\u001b[0m     \u001b[38;5;66;03m# GH 42790 - Preserve name from an Index\u001b[39;00m\n",
      "File \u001b[1;32m~\\AppData\\Local\\Packages\\PythonSoftwareFoundation.Python.3.9_qbz5n2kfra8p0\\LocalCache\\local-packages\\Python39\\site-packages\\pandas\\core\\indexes\\base.py:5935\u001b[0m, in \u001b[0;36mIndex._raise_if_missing\u001b[1;34m(self, key, indexer, axis_name)\u001b[0m\n\u001b[0;32m   5933\u001b[0m     \u001b[38;5;28;01mif\u001b[39;00m use_interval_msg:\n\u001b[0;32m   5934\u001b[0m         key \u001b[38;5;241m=\u001b[39m \u001b[38;5;28mlist\u001b[39m(key)\n\u001b[1;32m-> 5935\u001b[0m     \u001b[38;5;28;01mraise\u001b[39;00m \u001b[38;5;167;01mKeyError\u001b[39;00m(\u001b[38;5;124mf\u001b[39m\u001b[38;5;124m\"\u001b[39m\u001b[38;5;124mNone of [\u001b[39m\u001b[38;5;132;01m{\u001b[39;00mkey\u001b[38;5;132;01m}\u001b[39;00m\u001b[38;5;124m] are in the [\u001b[39m\u001b[38;5;132;01m{\u001b[39;00maxis_name\u001b[38;5;132;01m}\u001b[39;00m\u001b[38;5;124m]\u001b[39m\u001b[38;5;124m\"\u001b[39m)\n\u001b[0;32m   5937\u001b[0m not_found \u001b[38;5;241m=\u001b[39m \u001b[38;5;28mlist\u001b[39m(ensure_index(key)[missing_mask\u001b[38;5;241m.\u001b[39mnonzero()[\u001b[38;5;241m0\u001b[39m]]\u001b[38;5;241m.\u001b[39munique())\n\u001b[0;32m   5938\u001b[0m \u001b[38;5;28;01mraise\u001b[39;00m \u001b[38;5;167;01mKeyError\u001b[39;00m(\u001b[38;5;124mf\u001b[39m\u001b[38;5;124m\"\u001b[39m\u001b[38;5;132;01m{\u001b[39;00mnot_found\u001b[38;5;132;01m}\u001b[39;00m\u001b[38;5;124m not in index\u001b[39m\u001b[38;5;124m\"\u001b[39m)\n",
      "\u001b[1;31mKeyError\u001b[0m: \"None of [Index([    0,     1,     2,     3,     4,     5,     6,     7,     8,     9,\\n       ...\\n       40016, 40017, 40018, 40019, 40020, 40021, 40022, 40023, 40024, 40025],\\n      dtype='int64', length=39498)] are in the [columns]\""
     ]
    }
   ],
   "source": [
    "from sklearn.neighbors import NearestNeighbors\n",
    "import numpy as np\n",
    "\n",
    "# Find nearest neighbors for each treated sample\n",
    "treated_indices = np.where(treatment == 1)[0]\n",
    "control_indices = np.where(treatment == 0)[0]\n",
    "\n",
    "nn = NearestNeighbors(n_neighbors= N, algorithm='ball_tree')\n",
    "nn.fit(X[control_indices])\n",
    "distances, indices = nn.kneighbors(X[treated_indices])\n",
    "\n",
    "# Match control samples to treated samples based on propensity score\n",
    "matched_control_indices = control_indices[indices.flatten()]\n",
    "\n",
    "# Your matched data\n",
    "matched_X = np.concatenate([X[treated_indices], X[matched_control_indices]], axis=0)\n",
    "matched_treatment = np.concatenate([treatment[treated_indices], treatment[matched_control_indices]], axis=0)\n"
   ]
  },
  {
   "cell_type": "code",
   "execution_count": null,
   "id": "3a31a450-6b96-4156-b69f-e043058488ad",
   "metadata": {},
   "outputs": [],
   "source": [
    "from sklearn.neighbors import NearestNeighbors\n",
    "import numpy as np\n",
    "\n",
    "# Find nearest neighbors for each treated sample\n",
    "treated_indices = np.where(treatment == 1)[0]\n",
    "control_indices = np.where(treatment == 0)[0]\n",
    "\n",
    "# Create a feature matrix for treated and control samples\n",
    "X_treated = X[treated_indices]\n",
    "X_control = X[control_indices]\n",
    "\n",
    "nn = NearestNeighbors(n_neighbors=N, algorithm='ball_tree')\n",
    "nn.fit(X_control)  # Fit the NearestNeighbors model with control samples\n",
    "\n",
    "# Find the indices of the nearest neighbors in the control group for each treated sample\n",
    "distances, indices = lnn.kneighbors(X_treated)\n",
    "\n",
    "# Match control samples to treated samples based on propensity score\n",
    "matched_control_indices = control_indices[indices.flatten()]\n",
    "\n",
    "# Your matched data\n",
    "matched_X = np.concatenate([X_treated, X[matched_control_indices]], axis=0)\n",
    "matched_treatment = np.concatenate([treatment[treated_indices], treatment[matched_control_indices]], axis=0)\n"
   ]
  },
  {
   "cell_type": "code",
   "execution_count": null,
   "id": "d4ea5571-5730-41ec-8dc4-3275ba31d280",
   "metadata": {},
   "outputs": [],
   "source": []
  }
 ],
 "metadata": {
  "kernelspec": {
   "display_name": "Python 3 (ipykernel)",
   "language": "python",
   "name": "python3"
  },
  "language_info": {
   "codemirror_mode": {
    "name": "ipython",
    "version": 3
   },
   "file_extension": ".py",
   "mimetype": "text/x-python",
   "name": "python",
   "nbconvert_exporter": "python",
   "pygments_lexer": "ipython3",
   "version": "3.9.13"
  }
 },
 "nbformat": 4,
 "nbformat_minor": 5
}
